{
 "cells": [
  {
   "cell_type": "code",
   "execution_count": 1,
   "id": "c13844f7",
   "metadata": {},
   "outputs": [],
   "source": [
    "import numpy as np\n",
    "import pandas as pd\n",
    "\n",
    "'''\n",
    "This file only partitions the data into train and test set.\n",
    "In a separate file as to not produce different partitions every time the other code is run.\n",
    "'''\n",
    "\n",
    "mushrooms = pd.read_csv('data/mushrooms.csv')\n",
    "\n",
    "n = mushrooms.shape[0]\n",
    "test_indices = np.random.choice(n, size=n//5, replace=False)\n",
    "\n",
    "mushrooms_train = mushrooms.drop(test_indices, axis=0)\n",
    "mushrooms_test = mushrooms.iloc[test_indices, :]\n",
    "\n",
    "mushrooms_train.to_csv('data/mushrooms_train.csv', index=False)\n",
    "mushrooms_test.to_csv('data/mushrooms_test.csv', index=False)"
   ]
  },
  {
   "cell_type": "code",
   "execution_count": null,
   "id": "c574adb2",
   "metadata": {},
   "outputs": [],
   "source": []
  }
 ],
 "metadata": {
  "kernelspec": {
   "display_name": "Python 3 (ipykernel)",
   "language": "python",
   "name": "python3"
  },
  "language_info": {
   "codemirror_mode": {
    "name": "ipython",
    "version": 3
   },
   "file_extension": ".py",
   "mimetype": "text/x-python",
   "name": "python",
   "nbconvert_exporter": "python",
   "pygments_lexer": "ipython3",
   "version": "3.9.12"
  }
 },
 "nbformat": 4,
 "nbformat_minor": 5
}
